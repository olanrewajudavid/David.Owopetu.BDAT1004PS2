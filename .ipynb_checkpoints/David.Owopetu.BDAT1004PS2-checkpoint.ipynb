{
 "cells": [
  {
   "cell_type": "markdown",
   "metadata": {},
   "source": [
    "![GEORGIAN COLLEGE](GeorgianCollgeLogo.png)\n",
    "<h2><font color='#004b87'><center>PROBLEM SET 1</center></font></h2>\n",
    "<h3><font color='#004b87'><center>BDAT 1004 - DATA PROGRAMMING</center></font></h3>\n",
    "<h3><font color='#004b87'><center>STUDENT'S NAME: DAVID OWOPETU</center></font></h3>\n",
    "<h3><font color='#004b87'><center>STUDENT'S ID: 200573602</center></font></h3>\n",
    "<h3><font color='#004b87'><center>Winter Semester - 2024</center></font></h3>\n",
    "<hr>"
   ]
  },
  {
   "cell_type": "code",
   "execution_count": null,
   "metadata": {},
   "outputs": [],
   "source": []
  },
  {
   "cell_type": "markdown",
   "metadata": {},
   "source": [
    "### Question 1 <br>\n",
    "Consider the following Python module: <br>\n",
    "a = 0 <br>\n",
    "def b(): <br>\n",
    "global a <br>\n",
    "a = c(a) <br>\n",
    "def c(a): <br>\n",
    "return a + 2 <br>\n",
    "After importing the module into the interpreter, you execute: <br>\n",
    "`>>> b()` <br>\n",
    "`>>> b()` <br>\n",
    "`>>> b()` <br>\n",
    "`>>> a` <br>\n",
    "`?` <br>\n",
    "What value is displayed when the last expression (a) is evaluated? Explain your answer by indicating what happens in every executed statement"
   ]
  },
  {
   "cell_type": "code",
   "execution_count": 31,
   "metadata": {},
   "outputs": [
    {
     "data": {
      "text/plain": [
       "6"
      ]
     },
     "execution_count": 31,
     "metadata": {},
     "output_type": "execute_result"
    }
   ],
   "source": [
    "# Solution to Question 1\n",
    "\n",
    "a = 0   # a references a global variable whoch is zero\n",
    "def b():\n",
    "    global a   \n",
    "    a = c(a)\n",
    "def c(a):\n",
    "    return a + 2\n",
    "\n",
    "#Execute the code\n",
    "b() # returns a = 2 \n",
    "b() # returns a = 4 \n",
    "b() # returns a = 6 \n",
    "a   # Finally, a = 6\n",
    "\n",
    "# Explanation:\n",
    "\n",
    "# The first function b() calls a function c(a) which return 0 + 2\n",
    "# The second function b() calls a function c(a), whereby a has become 2, which return 2 + 2 = 4\n",
    "# The third function b() calls a function c(a), whereby a has become 4, which return 4 + 2 = 4\n",
    "# Finally, the function a is 6\n"
   ]
  },
  {
   "cell_type": "markdown",
   "metadata": {},
   "source": [
    "### Question 2 <br>\n",
    "Function fileLength(), given to you, takes the name of a file as input and returns the length of the file: <br>\n",
    "`>>> fileLength('midterm.py')` <br>\n",
    "284 <br>\n",
    "`>>> fileLength('idterm.py')` <br>\n",
    "`Traceback (most recent call last):` <br>\n",
    "`File \"<pyshell#34>\", line 1, in <module>`<br>\n",
    "`fileLength('idterm.py')`<br>\n",
    "`File \"/Users/me/midterm.py\", line 3, in fileLength` <br>\n",
    "`infile = open(filename) FileNotFoundError:` <br>\n",
    "`[Errno 2] No such file or directory: 'idterm.py'` <br>\n",
    "\n",
    "As shown above, if the file cannot be found by the interpreter or if it cannot be read as a text file, an exception will be raised. Modify function fileLength() so that a friendly message is printed instead: <br>\n",
    "`>>> fileLength('midterm.py') 358` <br> \n",
    "`>>> fileLength('idterm.py') File idterm.py not found.`"
   ]
  },
  {
   "cell_type": "code",
   "execution_count": 37,
   "metadata": {},
   "outputs": [
    {
     "name": "stdout",
     "output_type": "stream",
     "text": [
      "File midterm.py not found.\n",
      "File idterm.py not found.\n"
     ]
    }
   ],
   "source": [
    "# Solution to Question 2\n",
    "\n",
    "def fileLength(fileName):\n",
    "    try:\n",
    "        infile = open(fileName)\n",
    "        content = infile.read()\n",
    "        infile.close()\n",
    "        return len(content)\n",
    "    except FileNotFoundError:\n",
    "        print(f\"File {fileName} not found.\")\n",
    "fileLength('midterm.py')\n",
    "fileLength('idterm.py')"
   ]
  },
  {
   "cell_type": "markdown",
   "metadata": {},
   "source": [
    "### Question 3 \n",
    "\n",
    "Write a class named Marsupial that can be used as shown below: <br>\n",
    "`>>> m = Marsupial()` <br> \n",
    "`>>> m.put_in_pouch('doll')`<br> \n",
    "`>>> m.put_in_pouch('firetruck')`<br> \n",
    "`>>> m.put_in_pouch('kitten')`<br>\n",
    "`>>> m.pouch_contents()`<br>\n",
    "`['doll', 'firetruck', 'kitten']`<br>\n",
    "\n",
    "Now write a class named Kangaroo as a subclass of Marsupial that inherits all the attributes of Marsupial and also: <br>\n",
    "\n",
    "a. extends the Marsupial __init__ constructor to take, as input, the coordinates x and y of the Kangaroo object, <br>\n",
    "b. supports method jump that takes number values dx and dy as input and moves the kangaroo by dx units along the x-axis and by dy units along the y-axis, and <br>\n",
    "c. overloads the __str__ operator so it behaves as shown below.<br>\n",
    "\n",
    "`>>> k = Kangaroo(0,0)`<br>\n",
    "`>>> print(k)` <br>\n",
    "`I am a Kangaroo located at coordinates (0,0)` <br>\n",
    "`>>> k.put_in_pouch('doll')` <br>\n",
    "`>>> k.put_in_pouch('firetruck')`\n",
    "`>>> k.put_in_pouch('kitten')`<br>\n",
    "`>>> k.pouch_contents() ['doll', 'firetruck', 'kitten']`<br>\n",
    "`>>> k.jump(1,0) >>> k.jump(1,0)`<br>\n",
    "`>>> k.jump(1,0)`<br>\n",
    "`>>> print(k)`<br>\n",
    "I am a Kangaroo located at coordinates (3,0)"
   ]
  },
  {
   "cell_type": "code",
   "execution_count": 38,
   "metadata": {},
   "outputs": [
    {
     "name": "stdout",
     "output_type": "stream",
     "text": [
      "['doll', 'firetruck', 'kitten']\n",
      "I am a Kangaroo located at coordinates (0,0)\n",
      "['doll', 'firetruck', 'kitten']\n",
      "I am a Kangaroo located at coordinates (3,0)\n"
     ]
    }
   ],
   "source": [
    "# Solution to Question 3\n",
    "\n",
    "class Marsupial:\n",
    "    def __init__(self):\n",
    "        self.pouch = []\n",
    "\n",
    "    def put_in_pouch(self, item):\n",
    "        self.pouch.append(item)\n",
    "\n",
    "    def pouch_contents(self):\n",
    "        return self.pouch\n",
    "\n",
    "class Kangaroo(Marsupial):\n",
    "    def __init__(self, x, y):\n",
    "        super().__init__()\n",
    "        self.x = x\n",
    "        self.y = y\n",
    "\n",
    "    def jump(self, dx, dy):\n",
    "        self.x += dx\n",
    "        self.y += dy\n",
    "\n",
    "    def __str__(self):\n",
    "        return f\"I am a Kangaroo located at coordinates ({self.x},{self.y})\"\n",
    "\n",
    "# Test cases\n",
    "m = Marsupial()\n",
    "m.put_in_pouch('doll')\n",
    "m.put_in_pouch('firetruck')\n",
    "m.put_in_pouch('kitten')\n",
    "print(m.pouch_contents())\n",
    "\n",
    "k = Kangaroo(0, 0)\n",
    "print(k)\n",
    "k.put_in_pouch('doll')\n",
    "k.put_in_pouch('firetruck')\n",
    "k.put_in_pouch('kitten')\n",
    "print(k.pouch_contents())\n",
    "\n",
    "k.jump(1, 0)\n",
    "k.jump(1, 0)\n",
    "k.jump(1, 0)\n",
    "print(k)"
   ]
  },
  {
   "cell_type": "markdown",
   "metadata": {},
   "source": [
    "### Question 4\n",
    "\n",
    "Write function collatz() that takes a positive integer x as input and prints the Collatz sequence starting at x. A Collatz sequence is obtained by repeatedly applying this rule to the previous number x in the sequence: <br>\n",
    "x = { 𝑥/2       i𝑓 𝑥 𝑖𝑠 even <br> \n",
    "    { 3x + 1    𝑖𝑓 𝑥 𝑖𝑠 𝑜𝑑𝑑<br>\n",
    "    \n",
    "Your function should stop when the sequence gets to number 1. Your implementation must be recursive, without any loops.\n",
    "`>>> collatz(1)` <br>\n",
    "1 <br>\n",
    "`>>> collatz(10)` <br>\n",
    "10 <br>\n",
    "5 <br>\n",
    "16 <br>\n",
    "8 <br>\n",
    "4 <br>\n",
    "2 <br>\n",
    "1 <br>"
   ]
  },
  {
   "cell_type": "code",
   "execution_count": 39,
   "metadata": {},
   "outputs": [
    {
     "name": "stdout",
     "output_type": "stream",
     "text": [
      "1\n",
      "\n",
      "10\n",
      "5\n",
      "16\n",
      "8\n",
      "4\n",
      "2\n",
      "1\n"
     ]
    }
   ],
   "source": [
    "# Solution to Question 4\n",
    "\n",
    "def collatz(x):\n",
    "    print(x)\n",
    "    if x == 1:\n",
    "        return\n",
    "    elif x % 2 == 0:\n",
    "        collatz(x // 2)\n",
    "    else:\n",
    "        collatz(3 * x + 1)\n",
    "\n",
    "# Test cases\n",
    "collatz(1)\n",
    "print()\n",
    "collatz(10)"
   ]
  },
  {
   "cell_type": "markdown",
   "metadata": {},
   "source": [
    "### Question 5 \n",
    "Write a recursive method binary() that takes a non-negative integer n and prints the binary representation of integer n. <br>\n",
    "`>>> binary(0)` <br> \n",
    "0 <br> \n",
    "`>>> binary(1)` <br> \n",
    "1 <br> `>>> binary(3)`<br>\n",
    "11<br>\n",
    "`>>> binary(9)` <br>\n",
    "1001 <br>"
   ]
  },
  {
   "cell_type": "code",
   "execution_count": 49,
   "metadata": {},
   "outputs": [
    {
     "name": "stdout",
     "output_type": "stream",
     "text": [
      "0\n",
      "1\n",
      "11\n",
      "1001\n"
     ]
    }
   ],
   "source": [
    "def binary(p_numbers):\n",
    "    if p_numbers == 0:\n",
    "        return '0'\n",
    "    elif p_numbers == 1:\n",
    "        return '1'\n",
    "    else:\n",
    "        return binary(p_numbers // 2) + str(p_numbers % 2)\n",
    "\n",
    "# Execute the function above using test cases\n",
    "print(binary(0))\n",
    "print(binary(1))\n",
    "print(binary(3))\n",
    "print(binary(9))"
   ]
  },
  {
   "cell_type": "markdown",
   "metadata": {},
   "source": [
    "### Question 6\n",
    "\n",
    "Implement a class named HeadingParser that can be used to parse an HTML document, and retrieve and print all the headings in the document. You should implement your class as a subclass of HTMLParser, defined in Standard Library module html.parser. When fed a string containing HTML code, your class should print the headings, one per line and in the order in which they appear in the document. Each heading should be indented as follows: an h1 heading should have indentation 0, and h2 heading should have indentation 1, etc. Test your implementation using w3c.html. <br>\n",
    "\n",
    "`>>> infile = open('w3c.html')` <br>\n",
    "`>>> content = infile.read()` <br>\n",
    "`>>> infile.close()`<br>\n",
    "`>>> hp = HeadingParser()`<br>\n",
    "`>>> hp.feed(content)`<br>\n",
    "W3C Mission <br>\n",
    "Principles"
   ]
  },
  {
   "cell_type": "code",
   "execution_count": 68,
   "metadata": {},
   "outputs": [
    {
     "name": "stdout",
     "output_type": "stream",
     "text": [
      "W3C Mission\n",
      "\n",
      "\t\n",
      "Principles\n"
     ]
    }
   ],
   "source": [
    "# Solution to Question 6\n",
    "\n",
    "from html.parser import HTMLParser\n",
    "\n",
    "class HeadingParser(HTMLParser):\n",
    "    def __init__(self):\n",
    "        super().__init__()\n",
    "        self.in_heading = False\n",
    "        self.indentation = 0\n",
    "\n",
    "    def handle_starttag(self, tag, attrs):\n",
    "        if tag.startswith('h1'):\n",
    "            self.in_heading = True\n",
    "            self.indentation = int(tag[1]) - 1\n",
    "\n",
    "    def handle_endtag(self, tag):\n",
    "        if tag.startswith('h2'):\n",
    "            self.in_heading = False\n",
    "\n",
    "    def handle_data(self, data):\n",
    "        if self.in_heading:\n",
    "            print(' ' * self.indentation + data)\n",
    "\n",
    "# Execute the function above\n",
    "infile = open('w3c.html')\n",
    "content = infile.read()\n",
    "infile.close()\n",
    "\n",
    "hp = HeadingParser()\n",
    "hp.feed(content)"
   ]
  },
  {
   "cell_type": "markdown",
   "metadata": {},
   "source": [
    "### Question 7\n",
    "\n",
    "Implement recursive function webdir() that takes as input: a URL (as a string) and non-negative integers depth and indent. Your function should visit every web page reachable from the starting URL web page in depth clicks or less, and print each web page's URL. As shown below, indentation, specified by indent, should be used to indicate the depth of a URL. <br>\n",
    "`>>>` <br>\n",
    "webdir('http://reed.cs.depaul.edu/lperkovic/csc242/test1.html', 2, 0) <br>\n",
    "http://reed.cs.depaul.edu/lperkovic/csc242/test1.html <br>\n",
    "http://reed.cs.depaul.edu/lperkovic/csc242/test2.html<br>\n",
    "http://reed.cs.depaul.edu/lperkovic/csc242/test4.html<br>\n",
    "http://reed.cs.depaul.edu/lperkovic/csc242/test3.html<br>\n",
    "http://reed.cs.depaul.edu/lperkovic/csc242/test4.html"
   ]
  },
  {
   "cell_type": "code",
   "execution_count": 69,
   "metadata": {},
   "outputs": [
    {
     "name": "stdout",
     "output_type": "stream",
     "text": [
      "http://reed.cs.depaul.edu/lperkovic/csc242/test1.html\n"
     ]
    }
   ],
   "source": [
    "import requests\n",
    "from bs4 import BeautifulSoup\n",
    "\n",
    "def webdir(url, depth, indent):\n",
    "    if depth < 0:\n",
    "        return\n",
    "    try:\n",
    "        response = requests.get(url)\n",
    "        soup = BeautifulSoup(response.text, 'html.parser')\n",
    "        print(' ' * indent + url)\n",
    "        if depth > 0:\n",
    "            links = soup.find_all('a')\n",
    "            for link in links:\n",
    "                new_url = link.get('href')\n",
    "                if new_url.startswith('http'):\n",
    "                    webdir(new_url, depth - 1, indent + 4)\n",
    "    except Exception as e:\n",
    "        print(f\"Error accessing URL: {url}\")\n",
    "\n",
    "webdir('http://reed.cs.depaul.edu/lperkovic/csc242/test1.html', 2, 0)\n"
   ]
  },
  {
   "cell_type": "markdown",
   "metadata": {},
   "source": [
    "### Question 8\n",
    "\n",
    "Write SQL queries on the below database table that return: <br>\n",
    "a) All the temperature data. <br>\n",
    "b) All the cities, but without repetition. <br>\n",
    "c) All the records for India. <br>\n",
    "d) All the Fall records. <br>\n",
    "e) The city, country, and season for which the average rainfall is between 200 and 400 millimeters. <br>\n",
    "f) The city and country for which the average Fall temperature is above 20 degrees, in increasing temperature order. <br>\n",
    "g) The total annual rainfall for Cairo. <br>\n",
    "h) The total rainfall for each season. <br>\n",
    "![GEORGIAN COLLEGE](Table_Que8.png)"
   ]
  },
  {
   "cell_type": "code",
   "execution_count": 1,
   "metadata": {},
   "outputs": [
    {
     "name": "stdout",
     "output_type": "stream",
     "text": [
      "Temperature data: [(24.8,), (28.4,), (27.9,), (27.6,), (4.2,), (8.3,), (15.7,), (10.4,), (13.6,), (20.7,), (27.7,), (22.2,)]\n"
     ]
    }
   ],
   "source": [
    "import sqlite3\n",
    "\n",
    "# Create a connection to the database\n",
    "conn = sqlite3.connect(':memory:')  # Use in-memory database for demonstration\n",
    "cursor = conn.cursor()\n",
    "\n",
    "# Create the weather table and insert data\n",
    "cursor.execute('''CREATE TABLE weather (\n",
    "                    City TEXT,\n",
    "                    Country TEXT,\n",
    "                    Season TEXT,\n",
    "                    Temperature REAL,\n",
    "                    Rainfall REAL\n",
    "                )''')\n",
    "\n",
    "# Sample data\n",
    "data = [\n",
    "    ('Mumbai', 'India', 'Winter', 24.8, 5.9),\n",
    "    ('Mumbai', 'India', 'Spring', 28.4, 16.2),\n",
    "    ('Mumbai', 'India', 'Summer', 27.9, 1549.4),\n",
    "    ('Mumbai', 'India', 'Fall', 27.6, 346.0),\n",
    "    ('London', 'United Kingdom', 'Winter', 4.2, 207.7),\n",
    "    ('London', 'United Kingdom', 'Spring', 8.3, 169.6),\n",
    "    ('London', 'United Kingdom', 'Summer', 15.7, 157.0),\n",
    "    ('London', 'United Kingdom', 'Fall', 10.4, 218.5),\n",
    "    ('Cairo', 'Egypt', 'Winter', 13.6, 16.5),\n",
    "    ('Cairo', 'Egypt', 'Spring', 20.7, 6.5),\n",
    "    ('Cairo', 'Egypt', 'Summer', 27.7, 0.1),\n",
    "    ('Cairo', 'Egypt', 'Fall', 22.2, 4.5)\n",
    "]\n",
    "\n",
    "cursor.executemany('INSERT INTO weather VALUES (?, ?, ?, ?, ?)', data)\n",
    "\n",
    "# a) All the temperature data\n",
    "cursor.execute('SELECT Temperature FROM weather')\n",
    "temperature_data = cursor.fetchall()\n",
    "print(\"Temperature data:\", temperature_data)"
   ]
  },
  {
   "cell_type": "code",
   "execution_count": 2,
   "metadata": {},
   "outputs": [
    {
     "name": "stdout",
     "output_type": "stream",
     "text": [
      "Cities: [('Mumbai',), ('London',), ('Cairo',)]\n"
     ]
    }
   ],
   "source": [
    "# b) All the cities, but without repetition\n",
    "cursor.execute('SELECT DISTINCT City FROM weather')\n",
    "cities = cursor.fetchall()\n",
    "print(\"Cities:\", cities)"
   ]
  },
  {
   "cell_type": "code",
   "execution_count": 3,
   "metadata": {},
   "outputs": [
    {
     "name": "stdout",
     "output_type": "stream",
     "text": [
      "Records for India: [('Mumbai', 'India', 'Winter', 24.8, 5.9), ('Mumbai', 'India', 'Spring', 28.4, 16.2), ('Mumbai', 'India', 'Summer', 27.9, 1549.4), ('Mumbai', 'India', 'Fall', 27.6, 346.0)]\n"
     ]
    }
   ],
   "source": [
    "# c) All the records for India\n",
    "cursor.execute(\"SELECT * FROM weather WHERE Country = 'India'\")\n",
    "india_records = cursor.fetchall()\n",
    "print(\"Records for India:\", india_records)"
   ]
  },
  {
   "cell_type": "code",
   "execution_count": 4,
   "metadata": {},
   "outputs": [
    {
     "name": "stdout",
     "output_type": "stream",
     "text": [
      "Fall records: [('Mumbai', 'India', 'Fall', 27.6, 346.0), ('London', 'United Kingdom', 'Fall', 10.4, 218.5), ('Cairo', 'Egypt', 'Fall', 22.2, 4.5)]\n"
     ]
    }
   ],
   "source": [
    "# d) All the Fall records\n",
    "cursor.execute(\"SELECT * FROM weather WHERE Season = 'Fall'\")\n",
    "fall_records = cursor.fetchall()\n",
    "print(\"Fall records:\", fall_records)"
   ]
  },
  {
   "cell_type": "code",
   "execution_count": 5,
   "metadata": {},
   "outputs": [
    {
     "name": "stdout",
     "output_type": "stream",
     "text": [
      "City, country, and season with avg rainfall between 200 and 400 mm: [('London', 'United Kingdom', 'Fall'), ('London', 'United Kingdom', 'Winter'), ('Mumbai', 'India', 'Fall')]\n"
     ]
    }
   ],
   "source": [
    "# e) The city, country, and season for which the average rainfall is between 200 and 400 millimeters\n",
    "cursor.execute('''SELECT City, Country, Season\n",
    "                FROM weather\n",
    "                GROUP BY City, Country, Season\n",
    "                HAVING AVG(Rainfall) BETWEEN 200 AND 400''')\n",
    "rainfall_avg_200_400 = cursor.fetchall()\n",
    "print(\"City, country, and season with avg rainfall between 200 and 400 mm:\", rainfall_avg_200_400)"
   ]
  },
  {
   "cell_type": "code",
   "execution_count": 6,
   "metadata": {},
   "outputs": [
    {
     "name": "stdout",
     "output_type": "stream",
     "text": [
      "City and country with avg Fall temp above 20°C, in increasing temperature order: [('Cairo', 'Egypt'), ('Mumbai', 'India')]\n"
     ]
    }
   ],
   "source": [
    "# f) The city and country for which the average Fall temperature is above 20 degrees, in increasing temperature order\n",
    "cursor.execute('''SELECT City, Country\n",
    "                FROM weather\n",
    "                WHERE Season = 'Fall'\n",
    "                GROUP BY City, Country\n",
    "                HAVING AVG(Temperature) > 20\n",
    "                ORDER BY AVG(Temperature) ASC''')\n",
    "fall_avg_temp_above_20 = cursor.fetchall()\n",
    "print(\"City and country with avg Fall temp above 20°C, in increasing temperature order:\", fall_avg_temp_above_20)"
   ]
  },
  {
   "cell_type": "code",
   "execution_count": 7,
   "metadata": {},
   "outputs": [
    {
     "name": "stdout",
     "output_type": "stream",
     "text": [
      "Total annual rainfall for Cairo: 27.6\n"
     ]
    }
   ],
   "source": [
    "# g) The total annual rainfall for Cairo\n",
    "cursor.execute(\"SELECT SUM(Rainfall) AS TotalRainfall FROM weather WHERE City = 'Cairo'\")\n",
    "cairo_total_rainfall = cursor.fetchone()[0]\n",
    "print(\"Total annual rainfall for Cairo:\", cairo_total_rainfall)"
   ]
  },
  {
   "cell_type": "code",
   "execution_count": 8,
   "metadata": {},
   "outputs": [
    {
     "name": "stdout",
     "output_type": "stream",
     "text": [
      "Total rainfall for each season: [('Fall', 569.0), ('Spring', 192.29999999999998), ('Summer', 1706.5), ('Winter', 230.1)]\n"
     ]
    }
   ],
   "source": [
    "# h) The total rainfall for each season\n",
    "cursor.execute('''SELECT Season, SUM(Rainfall) AS TotalRainfall\n",
    "                FROM weather\n",
    "                GROUP BY Season''')\n",
    "total_rainfall_season = cursor.fetchall()\n",
    "print(\"Total rainfall for each season:\", total_rainfall_season)"
   ]
  },
  {
   "cell_type": "code",
   "execution_count": 9,
   "metadata": {},
   "outputs": [],
   "source": [
    "# Close the cursor and connection\n",
    "cursor.close()\n",
    "conn.close()"
   ]
  },
  {
   "cell_type": "markdown",
   "metadata": {},
   "source": [
    "### Question 9\n",
    "\n",
    "Suppose list words is defined as follows: <br>\n",
    "`>>> words = ['The', 'quick', 'brown', 'fox', 'jumps', 'over', 'the', 'lazy', 'dog']`<br>\n",
    "Write list comprehension expressions that use list words and generate the following lists:<br>\n",
    "a) ['THE', 'QUICK', 'BROWN', 'FOX', 'JUMPS', 'OVER', 'THE', 'LAZY', 'DOG']<br>\n",
    "b) ['the', 'quick', 'brown', 'fox', 'jumps', 'over', 'the', 'lazy', 'dog']<br>\n",
    "c) [3, 5, 5, 3, 5, 4, 3, 4, 3] (the list of lengths of words in list words).<br>\n",
    "d) [['THE', 'the', 3], ['QUICK', 'quick', 5], ['BROWN', 'brown', 5], ['FOX', 'fox', 3], ['JUMPS', 'jumps', 5], ['OVER', 'over', 4], ['THE', 'the', 3], ['LAZY', 'lazy', 4], ['DOG', 'dog', 3]] (the list containing a list for every word of list words, where each list contains the word in uppercase and lowercase and the length of the word.)<br>\n",
    "e) ['The', 'quick', 'brown', 'fox', 'jumps', 'over', 'the', 'lazy', 'dog'] (the list of words in list words containing 4 or more characters.)"
   ]
  },
  {
   "cell_type": "code",
   "execution_count": 70,
   "metadata": {},
   "outputs": [
    {
     "name": "stdout",
     "output_type": "stream",
     "text": [
      "['THE', 'QUICK', 'BROWN', 'FOX', 'JUMPS', 'OVER', 'THE', 'LAZY', 'DOG']\n",
      "['the', 'quick', 'brown', 'fox', 'jumps', 'over', 'the', 'lazy', 'dog']\n",
      "[3, 5, 5, 3, 5, 4, 3, 4, 3]\n",
      "[['THE', 'the', 3], ['QUICK', 'quick', 5], ['BROWN', 'brown', 5], ['FOX', 'fox', 3], ['JUMPS', 'jumps', 5], ['OVER', 'over', 4], ['THE', 'the', 3], ['LAZY', 'lazy', 4], ['DOG', 'dog', 3]]\n",
      "['quick', 'brown', 'jumps', 'over', 'lazy']\n"
     ]
    }
   ],
   "source": [
    "words = ['The', 'quick', 'brown', 'fox', 'jumps', 'over', 'the', 'lazy', 'dog']\n",
    "\n",
    "# Print Uppercase words\n",
    "UpperCaseWords = [word.upper() for word in words] \n",
    "print(UpperCaseWords)\n",
    "\n",
    "# Print Lowercase words\n",
    "UpperCaseWords = [word.lower() for word in words]\n",
    "print(UpperCaseWords)\n",
    "\n",
    "# the list of lengths of words in list words\n",
    "WordLengths = [len(word) for word in words]\n",
    "print(WordLengths)\n",
    "\n",
    "word_info = [[word.upper(), word.lower(), len(word)] for word in words]\n",
    "print(word_info)\n",
    "\n",
    "long_words = [word for word in words if len(word) >= 4]\n",
    "print(long_words)"
   ]
  }
 ],
 "metadata": {
  "celltoolbar": "Slideshow",
  "kernelspec": {
   "display_name": "Python 3 (ipykernel)",
   "language": "python",
   "name": "python3"
  },
  "language_info": {
   "codemirror_mode": {
    "name": "ipython",
    "version": 3
   },
   "file_extension": ".py",
   "mimetype": "text/x-python",
   "name": "python",
   "nbconvert_exporter": "python",
   "pygments_lexer": "ipython3",
   "version": "3.11.5"
  }
 },
 "nbformat": 4,
 "nbformat_minor": 4
}
