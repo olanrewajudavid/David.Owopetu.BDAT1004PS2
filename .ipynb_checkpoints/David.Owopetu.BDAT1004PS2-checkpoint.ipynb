{
 "cells": [
  {
   "cell_type": "markdown",
   "metadata": {},
   "source": [
    "![GEORGIAN COLLEGE](GeorgianCollgeLogo.png)\n",
    "<h2><font color='#004b87'><center>PROBLEM SET 1</center></font></h2>\n",
    "<h3><font color='#004b87'><center>BDAT 1004 - DATA PROGRAMMING</center></font></h3>\n",
    "<h3><font color='#004b87'><center>STUDENT'S NAME: DAVID OWOPETU</center></font></h3>\n",
    "<h3><font color='#004b87'><center>STUDENT'S ID: 200573602</center></font></h3>\n",
    "<h3><font color='#004b87'><center>Winter Semester - 2024</center></font></h3>\n",
    "<hr>"
   ]
  },
  {
   "cell_type": "code",
   "execution_count": null,
   "metadata": {},
   "outputs": [],
   "source": []
  },
  {
   "cell_type": "markdown",
   "metadata": {},
   "source": [
    "### Question 1 <br>\n",
    "Consider the following Python module: <br>\n",
    "a = 0 <br>\n",
    "def b(): <br>\n",
    "global a <br>\n",
    "a = c(a) <br>\n",
    "def c(a): <br>\n",
    "return a + 2 <br>\n",
    "After importing the module into the interpreter, you execute: <br>\n",
    "`>>> b()` <br>\n",
    "`>>> b()` <br>\n",
    "`>>> b()` <br>\n",
    "`>>> a` <br>\n",
    "`?` <br>\n",
    "What value is displayed when the last expression (a) is evaluated? Explain your answer by indicating what happens in every executed statement"
   ]
  },
  {
   "cell_type": "code",
   "execution_count": null,
   "metadata": {},
   "outputs": [],
   "source": []
  },
  {
   "cell_type": "markdown",
   "metadata": {},
   "source": [
    "### Question 2 <br>\n",
    "Function fileLength(), given to you, takes the name of a file as input and returns the length of the file: <br>\n",
    "`>>> fileLength('midterm.py')` <br>\n",
    "284 <br>\n",
    "`>>> fileLength('idterm.py')` <br>\n",
    "`Traceback (most recent call last):` <br>\n",
    "`File \"<pyshell#34>\", line 1, in <module>`<br>\n",
    "`fileLength('idterm.py')`<br>\n",
    "`File \"/Users/me/midterm.py\", line 3, in fileLength` <br>\n",
    "`infile = open(filename) FileNotFoundError:` <br>\n",
    "`[Errno 2] No such file or directory: 'idterm.py'` <br>\n",
    "\n",
    "As shown above, if the file cannot be found by the interpreter or if it cannot be read as a text file, an exception will be raised. Modify function fileLength() so that a friendly message is printed instead: >>> fileLength('midterm.py') 358 >>> fileLength('idterm.py') File idterm.py not found."
   ]
  },
  {
   "cell_type": "code",
   "execution_count": null,
   "metadata": {},
   "outputs": [],
   "source": []
  },
  {
   "cell_type": "markdown",
   "metadata": {},
   "source": [
    "### Question 3 \n",
    "\n",
    "Write a class named Marsupial that can be used as shown below: <br>\n",
    "`>>> m = Marsupial()` <br> \n",
    "`>>> m.put_in_pouch('doll')`<br> \n",
    "`>>> m.put_in_pouch('firetruck')`<br> \n",
    "`>>> m.put_in_pouch('kitten')`<br>\n",
    "`>>> m.pouch_contents()`<br>\n",
    "`['doll', 'firetruck', 'kitten']`<br>\n",
    "\n",
    "Now write a class named Kangaroo as a subclass of Marsupial that inherits all the attributes of Marsupial and also: <br>\n",
    "\n",
    "a. extends the Marsupial __init__ constructor to take, as input, the coordinates x and y of the Kangaroo object, <br>\n",
    "b. supports method jump that takes number values dx and dy as input and moves the kangaroo by dx units along the x-axis and by dy units along the y-axis, and <br>\n",
    "c. overloads the __str__ operator so it behaves as shown below.<br>\n",
    "\n",
    "`>>> k = Kangaroo(0,0)`<br>\n",
    "`>>> print(k)` <br>\n",
    "`I am a Kangaroo located at coordinates (0,0)` <br>\n",
    "`>>> k.put_in_pouch('doll')` <br>\n",
    "`>>> k.put_in_pouch('firetruck')`\n",
    "`>>> k.put_in_pouch('kitten')`<br>\n",
    "`>>> k.pouch_contents() ['doll', 'firetruck', 'kitten']`<br>\n",
    "`>>> k.jump(1,0) >>> k.jump(1,0)`<br>\n",
    "`>>> k.jump(1,0)`<br>\n",
    "`>>> print(k)`<br>\n",
    "I am a Kangaroo located at coordinates (3,0)"
   ]
  },
  {
   "cell_type": "code",
   "execution_count": null,
   "metadata": {},
   "outputs": [],
   "source": []
  },
  {
   "cell_type": "markdown",
   "metadata": {},
   "source": [
    "### Question 4\n",
    "\n",
    "Write function collatz() that takes a positive integer x as input and prints the Collatz sequence starting at x. A Collatz sequence is obtained by repeatedly applying this rule to the previous number x in the sequence: <br>\n",
    "x = { 𝑥/2       i𝑓 𝑥 𝑖𝑠 even <br> \n",
    "    { 3x + 1    𝑖𝑓 𝑥 𝑖𝑠 𝑜𝑑𝑑<br>\n",
    "    \n",
    "Your function should stop when the sequence gets to number 1. Your implementation must be recursive, without any loops.\n",
    "`>>> collatz(1)` <br>\n",
    "1 <br>\n",
    "`>>> collatz(10)` <br>\n",
    "10 <br>\n",
    "5 <br>\n",
    "16 <br>\n",
    "8 <br>\n",
    "4 <br>\n",
    "2 <br>\n",
    "1 <br>"
   ]
  },
  {
   "cell_type": "code",
   "execution_count": null,
   "metadata": {},
   "outputs": [],
   "source": []
  },
  {
   "cell_type": "markdown",
   "metadata": {},
   "source": [
    "### Question 5 \n",
    "Write a recursive method binary() that takes a non-negative integer n and prints the binary representation of integer n. <br>\n",
    "`>>> binary(0)` <br> \n",
    "0 <br> \n",
    "`>>> binary(1)` <br> \n",
    "1 <br> `>>> binary(3)`<br>\n",
    "11<br>\n",
    "`>>> binary(9)` <br>\n",
    "1001 <br>"
   ]
  },
  {
   "cell_type": "code",
   "execution_count": null,
   "metadata": {},
   "outputs": [],
   "source": []
  },
  {
   "cell_type": "code",
   "execution_count": null,
   "metadata": {},
   "outputs": [],
   "source": []
  },
  {
   "cell_type": "code",
   "execution_count": null,
   "metadata": {},
   "outputs": [],
   "source": []
  },
  {
   "cell_type": "code",
   "execution_count": null,
   "metadata": {},
   "outputs": [],
   "source": []
  },
  {
   "cell_type": "code",
   "execution_count": null,
   "metadata": {},
   "outputs": [],
   "source": []
  }
 ],
 "metadata": {
  "celltoolbar": "Slideshow",
  "kernelspec": {
   "display_name": "Python 3 (ipykernel)",
   "language": "python",
   "name": "python3"
  },
  "language_info": {
   "codemirror_mode": {
    "name": "ipython",
    "version": 3
   },
   "file_extension": ".py",
   "mimetype": "text/x-python",
   "name": "python",
   "nbconvert_exporter": "python",
   "pygments_lexer": "ipython3",
   "version": "3.11.5"
  }
 },
 "nbformat": 4,
 "nbformat_minor": 4
}
